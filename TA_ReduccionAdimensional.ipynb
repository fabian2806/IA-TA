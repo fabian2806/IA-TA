{
  "nbformat": 4,
  "nbformat_minor": 0,
  "metadata": {
    "kernelspec": {
      "display_name": "Python 3",
      "language": "python",
      "name": "python3"
    },
    "language_info": {
      "codemirror_mode": {
        "name": "ipython",
        "version": 3
      },
      "file_extension": ".py",
      "mimetype": "text/x-python",
      "name": "python",
      "nbconvert_exporter": "python",
      "pygments_lexer": "ipython3",
      "version": "3.8.3"
    },
    "colab": {
      "provenance": []
    }
  },
  "cells": [
    {
      "cell_type": "markdown",
      "metadata": {
        "id": "1UpmDdCj58CS"
      },
      "source": [
        "# TAREA ACADÉMICA: REDUCCIÓN DIMENSIONAL\n"
      ]
    },
    {
      "cell_type": "code",
      "source": [
        "import pandas as pd\n",
        "import numpy as np\n",
        "from sklearn.feature_selection import RFE\n",
        "from sklearn.linear_model import LogisticRegression"
      ],
      "metadata": {
        "id": "Lytt0yQ2wxSy"
      },
      "execution_count": null,
      "outputs": []
    },
    {
      "cell_type": "code",
      "source": [
        "#Cargamos el Dataset Correspondiente\n",
        "filename = 'data.csv'\n",
        "dataset = pd.read_csv(filename)"
      ],
      "metadata": {
        "id": "X9G2gNRtxFxc"
      },
      "execution_count": null,
      "outputs": []
    },
    {
      "cell_type": "code",
      "source": [
        "dataset.head()"
      ],
      "metadata": {
        "colab": {
          "base_uri": "https://localhost:8080/",
          "height": 273
        },
        "id": "VPdNYrwAydiz",
        "outputId": "818e0c5c-6aac-40ad-eae3-943c6a6e73db"
      },
      "execution_count": null,
      "outputs": [
        {
          "output_type": "execute_result",
          "data": {
            "text/plain": [
              "         id diagnosis  radius_mean  texture_mean  perimeter_mean  area_mean  \\\n",
              "0    842302         M        17.99         10.38          122.80     1001.0   \n",
              "1    842517         M        20.57         17.77          132.90     1326.0   \n",
              "2  84300903         M        19.69         21.25          130.00     1203.0   \n",
              "3  84348301         M        11.42         20.38           77.58      386.1   \n",
              "4  84358402         M        20.29         14.34          135.10     1297.0   \n",
              "\n",
              "   smoothness_mean  compactness_mean  concavity_mean  concave points_mean  \\\n",
              "0          0.11840           0.27760          0.3001              0.14710   \n",
              "1          0.08474           0.07864          0.0869              0.07017   \n",
              "2          0.10960           0.15990          0.1974              0.12790   \n",
              "3          0.14250           0.28390          0.2414              0.10520   \n",
              "4          0.10030           0.13280          0.1980              0.10430   \n",
              "\n",
              "   ...  texture_worst  perimeter_worst  area_worst  smoothness_worst  \\\n",
              "0  ...          17.33           184.60      2019.0            0.1622   \n",
              "1  ...          23.41           158.80      1956.0            0.1238   \n",
              "2  ...          25.53           152.50      1709.0            0.1444   \n",
              "3  ...          26.50            98.87       567.7            0.2098   \n",
              "4  ...          16.67           152.20      1575.0            0.1374   \n",
              "\n",
              "   compactness_worst  concavity_worst  concave points_worst  symmetry_worst  \\\n",
              "0             0.6656           0.7119                0.2654          0.4601   \n",
              "1             0.1866           0.2416                0.1860          0.2750   \n",
              "2             0.4245           0.4504                0.2430          0.3613   \n",
              "3             0.8663           0.6869                0.2575          0.6638   \n",
              "4             0.2050           0.4000                0.1625          0.2364   \n",
              "\n",
              "   fractal_dimension_worst  Unnamed: 32  \n",
              "0                  0.11890          NaN  \n",
              "1                  0.08902          NaN  \n",
              "2                  0.08758          NaN  \n",
              "3                  0.17300          NaN  \n",
              "4                  0.07678          NaN  \n",
              "\n",
              "[5 rows x 33 columns]"
            ],
            "text/html": [
              "\n",
              "  <div id=\"df-273b3794-5d74-43bd-bb83-c73eb92acb71\" class=\"colab-df-container\">\n",
              "    <div>\n",
              "<style scoped>\n",
              "    .dataframe tbody tr th:only-of-type {\n",
              "        vertical-align: middle;\n",
              "    }\n",
              "\n",
              "    .dataframe tbody tr th {\n",
              "        vertical-align: top;\n",
              "    }\n",
              "\n",
              "    .dataframe thead th {\n",
              "        text-align: right;\n",
              "    }\n",
              "</style>\n",
              "<table border=\"1\" class=\"dataframe\">\n",
              "  <thead>\n",
              "    <tr style=\"text-align: right;\">\n",
              "      <th></th>\n",
              "      <th>id</th>\n",
              "      <th>diagnosis</th>\n",
              "      <th>radius_mean</th>\n",
              "      <th>texture_mean</th>\n",
              "      <th>perimeter_mean</th>\n",
              "      <th>area_mean</th>\n",
              "      <th>smoothness_mean</th>\n",
              "      <th>compactness_mean</th>\n",
              "      <th>concavity_mean</th>\n",
              "      <th>concave points_mean</th>\n",
              "      <th>...</th>\n",
              "      <th>texture_worst</th>\n",
              "      <th>perimeter_worst</th>\n",
              "      <th>area_worst</th>\n",
              "      <th>smoothness_worst</th>\n",
              "      <th>compactness_worst</th>\n",
              "      <th>concavity_worst</th>\n",
              "      <th>concave points_worst</th>\n",
              "      <th>symmetry_worst</th>\n",
              "      <th>fractal_dimension_worst</th>\n",
              "      <th>Unnamed: 32</th>\n",
              "    </tr>\n",
              "  </thead>\n",
              "  <tbody>\n",
              "    <tr>\n",
              "      <th>0</th>\n",
              "      <td>842302</td>\n",
              "      <td>M</td>\n",
              "      <td>17.99</td>\n",
              "      <td>10.38</td>\n",
              "      <td>122.80</td>\n",
              "      <td>1001.0</td>\n",
              "      <td>0.11840</td>\n",
              "      <td>0.27760</td>\n",
              "      <td>0.3001</td>\n",
              "      <td>0.14710</td>\n",
              "      <td>...</td>\n",
              "      <td>17.33</td>\n",
              "      <td>184.60</td>\n",
              "      <td>2019.0</td>\n",
              "      <td>0.1622</td>\n",
              "      <td>0.6656</td>\n",
              "      <td>0.7119</td>\n",
              "      <td>0.2654</td>\n",
              "      <td>0.4601</td>\n",
              "      <td>0.11890</td>\n",
              "      <td>NaN</td>\n",
              "    </tr>\n",
              "    <tr>\n",
              "      <th>1</th>\n",
              "      <td>842517</td>\n",
              "      <td>M</td>\n",
              "      <td>20.57</td>\n",
              "      <td>17.77</td>\n",
              "      <td>132.90</td>\n",
              "      <td>1326.0</td>\n",
              "      <td>0.08474</td>\n",
              "      <td>0.07864</td>\n",
              "      <td>0.0869</td>\n",
              "      <td>0.07017</td>\n",
              "      <td>...</td>\n",
              "      <td>23.41</td>\n",
              "      <td>158.80</td>\n",
              "      <td>1956.0</td>\n",
              "      <td>0.1238</td>\n",
              "      <td>0.1866</td>\n",
              "      <td>0.2416</td>\n",
              "      <td>0.1860</td>\n",
              "      <td>0.2750</td>\n",
              "      <td>0.08902</td>\n",
              "      <td>NaN</td>\n",
              "    </tr>\n",
              "    <tr>\n",
              "      <th>2</th>\n",
              "      <td>84300903</td>\n",
              "      <td>M</td>\n",
              "      <td>19.69</td>\n",
              "      <td>21.25</td>\n",
              "      <td>130.00</td>\n",
              "      <td>1203.0</td>\n",
              "      <td>0.10960</td>\n",
              "      <td>0.15990</td>\n",
              "      <td>0.1974</td>\n",
              "      <td>0.12790</td>\n",
              "      <td>...</td>\n",
              "      <td>25.53</td>\n",
              "      <td>152.50</td>\n",
              "      <td>1709.0</td>\n",
              "      <td>0.1444</td>\n",
              "      <td>0.4245</td>\n",
              "      <td>0.4504</td>\n",
              "      <td>0.2430</td>\n",
              "      <td>0.3613</td>\n",
              "      <td>0.08758</td>\n",
              "      <td>NaN</td>\n",
              "    </tr>\n",
              "    <tr>\n",
              "      <th>3</th>\n",
              "      <td>84348301</td>\n",
              "      <td>M</td>\n",
              "      <td>11.42</td>\n",
              "      <td>20.38</td>\n",
              "      <td>77.58</td>\n",
              "      <td>386.1</td>\n",
              "      <td>0.14250</td>\n",
              "      <td>0.28390</td>\n",
              "      <td>0.2414</td>\n",
              "      <td>0.10520</td>\n",
              "      <td>...</td>\n",
              "      <td>26.50</td>\n",
              "      <td>98.87</td>\n",
              "      <td>567.7</td>\n",
              "      <td>0.2098</td>\n",
              "      <td>0.8663</td>\n",
              "      <td>0.6869</td>\n",
              "      <td>0.2575</td>\n",
              "      <td>0.6638</td>\n",
              "      <td>0.17300</td>\n",
              "      <td>NaN</td>\n",
              "    </tr>\n",
              "    <tr>\n",
              "      <th>4</th>\n",
              "      <td>84358402</td>\n",
              "      <td>M</td>\n",
              "      <td>20.29</td>\n",
              "      <td>14.34</td>\n",
              "      <td>135.10</td>\n",
              "      <td>1297.0</td>\n",
              "      <td>0.10030</td>\n",
              "      <td>0.13280</td>\n",
              "      <td>0.1980</td>\n",
              "      <td>0.10430</td>\n",
              "      <td>...</td>\n",
              "      <td>16.67</td>\n",
              "      <td>152.20</td>\n",
              "      <td>1575.0</td>\n",
              "      <td>0.1374</td>\n",
              "      <td>0.2050</td>\n",
              "      <td>0.4000</td>\n",
              "      <td>0.1625</td>\n",
              "      <td>0.2364</td>\n",
              "      <td>0.07678</td>\n",
              "      <td>NaN</td>\n",
              "    </tr>\n",
              "  </tbody>\n",
              "</table>\n",
              "<p>5 rows × 33 columns</p>\n",
              "</div>\n",
              "    <div class=\"colab-df-buttons\">\n",
              "\n",
              "  <div class=\"colab-df-container\">\n",
              "    <button class=\"colab-df-convert\" onclick=\"convertToInteractive('df-273b3794-5d74-43bd-bb83-c73eb92acb71')\"\n",
              "            title=\"Convert this dataframe to an interactive table.\"\n",
              "            style=\"display:none;\">\n",
              "\n",
              "  <svg xmlns=\"http://www.w3.org/2000/svg\" height=\"24px\" viewBox=\"0 -960 960 960\">\n",
              "    <path d=\"M120-120v-720h720v720H120Zm60-500h600v-160H180v160Zm220 220h160v-160H400v160Zm0 220h160v-160H400v160ZM180-400h160v-160H180v160Zm440 0h160v-160H620v160ZM180-180h160v-160H180v160Zm440 0h160v-160H620v160Z\"/>\n",
              "  </svg>\n",
              "    </button>\n",
              "\n",
              "  <style>\n",
              "    .colab-df-container {\n",
              "      display:flex;\n",
              "      gap: 12px;\n",
              "    }\n",
              "\n",
              "    .colab-df-convert {\n",
              "      background-color: #E8F0FE;\n",
              "      border: none;\n",
              "      border-radius: 50%;\n",
              "      cursor: pointer;\n",
              "      display: none;\n",
              "      fill: #1967D2;\n",
              "      height: 32px;\n",
              "      padding: 0 0 0 0;\n",
              "      width: 32px;\n",
              "    }\n",
              "\n",
              "    .colab-df-convert:hover {\n",
              "      background-color: #E2EBFA;\n",
              "      box-shadow: 0px 1px 2px rgba(60, 64, 67, 0.3), 0px 1px 3px 1px rgba(60, 64, 67, 0.15);\n",
              "      fill: #174EA6;\n",
              "    }\n",
              "\n",
              "    .colab-df-buttons div {\n",
              "      margin-bottom: 4px;\n",
              "    }\n",
              "\n",
              "    [theme=dark] .colab-df-convert {\n",
              "      background-color: #3B4455;\n",
              "      fill: #D2E3FC;\n",
              "    }\n",
              "\n",
              "    [theme=dark] .colab-df-convert:hover {\n",
              "      background-color: #434B5C;\n",
              "      box-shadow: 0px 1px 3px 1px rgba(0, 0, 0, 0.15);\n",
              "      filter: drop-shadow(0px 1px 2px rgba(0, 0, 0, 0.3));\n",
              "      fill: #FFFFFF;\n",
              "    }\n",
              "  </style>\n",
              "\n",
              "    <script>\n",
              "      const buttonEl =\n",
              "        document.querySelector('#df-273b3794-5d74-43bd-bb83-c73eb92acb71 button.colab-df-convert');\n",
              "      buttonEl.style.display =\n",
              "        google.colab.kernel.accessAllowed ? 'block' : 'none';\n",
              "\n",
              "      async function convertToInteractive(key) {\n",
              "        const element = document.querySelector('#df-273b3794-5d74-43bd-bb83-c73eb92acb71');\n",
              "        const dataTable =\n",
              "          await google.colab.kernel.invokeFunction('convertToInteractive',\n",
              "                                                    [key], {});\n",
              "        if (!dataTable) return;\n",
              "\n",
              "        const docLinkHtml = 'Like what you see? Visit the ' +\n",
              "          '<a target=\"_blank\" href=https://colab.research.google.com/notebooks/data_table.ipynb>data table notebook</a>'\n",
              "          + ' to learn more about interactive tables.';\n",
              "        element.innerHTML = '';\n",
              "        dataTable['output_type'] = 'display_data';\n",
              "        await google.colab.output.renderOutput(dataTable, element);\n",
              "        const docLink = document.createElement('div');\n",
              "        docLink.innerHTML = docLinkHtml;\n",
              "        element.appendChild(docLink);\n",
              "      }\n",
              "    </script>\n",
              "  </div>\n",
              "\n",
              "\n",
              "<div id=\"df-9d46de3f-23d6-48e6-97af-998f64b44bcb\">\n",
              "  <button class=\"colab-df-quickchart\" onclick=\"quickchart('df-9d46de3f-23d6-48e6-97af-998f64b44bcb')\"\n",
              "            title=\"Suggest charts\"\n",
              "            style=\"display:none;\">\n",
              "\n",
              "<svg xmlns=\"http://www.w3.org/2000/svg\" height=\"24px\"viewBox=\"0 0 24 24\"\n",
              "     width=\"24px\">\n",
              "    <g>\n",
              "        <path d=\"M19 3H5c-1.1 0-2 .9-2 2v14c0 1.1.9 2 2 2h14c1.1 0 2-.9 2-2V5c0-1.1-.9-2-2-2zM9 17H7v-7h2v7zm4 0h-2V7h2v10zm4 0h-2v-4h2v4z\"/>\n",
              "    </g>\n",
              "</svg>\n",
              "  </button>\n",
              "\n",
              "<style>\n",
              "  .colab-df-quickchart {\n",
              "      --bg-color: #E8F0FE;\n",
              "      --fill-color: #1967D2;\n",
              "      --hover-bg-color: #E2EBFA;\n",
              "      --hover-fill-color: #174EA6;\n",
              "      --disabled-fill-color: #AAA;\n",
              "      --disabled-bg-color: #DDD;\n",
              "  }\n",
              "\n",
              "  [theme=dark] .colab-df-quickchart {\n",
              "      --bg-color: #3B4455;\n",
              "      --fill-color: #D2E3FC;\n",
              "      --hover-bg-color: #434B5C;\n",
              "      --hover-fill-color: #FFFFFF;\n",
              "      --disabled-bg-color: #3B4455;\n",
              "      --disabled-fill-color: #666;\n",
              "  }\n",
              "\n",
              "  .colab-df-quickchart {\n",
              "    background-color: var(--bg-color);\n",
              "    border: none;\n",
              "    border-radius: 50%;\n",
              "    cursor: pointer;\n",
              "    display: none;\n",
              "    fill: var(--fill-color);\n",
              "    height: 32px;\n",
              "    padding: 0;\n",
              "    width: 32px;\n",
              "  }\n",
              "\n",
              "  .colab-df-quickchart:hover {\n",
              "    background-color: var(--hover-bg-color);\n",
              "    box-shadow: 0 1px 2px rgba(60, 64, 67, 0.3), 0 1px 3px 1px rgba(60, 64, 67, 0.15);\n",
              "    fill: var(--button-hover-fill-color);\n",
              "  }\n",
              "\n",
              "  .colab-df-quickchart-complete:disabled,\n",
              "  .colab-df-quickchart-complete:disabled:hover {\n",
              "    background-color: var(--disabled-bg-color);\n",
              "    fill: var(--disabled-fill-color);\n",
              "    box-shadow: none;\n",
              "  }\n",
              "\n",
              "  .colab-df-spinner {\n",
              "    border: 2px solid var(--fill-color);\n",
              "    border-color: transparent;\n",
              "    border-bottom-color: var(--fill-color);\n",
              "    animation:\n",
              "      spin 1s steps(1) infinite;\n",
              "  }\n",
              "\n",
              "  @keyframes spin {\n",
              "    0% {\n",
              "      border-color: transparent;\n",
              "      border-bottom-color: var(--fill-color);\n",
              "      border-left-color: var(--fill-color);\n",
              "    }\n",
              "    20% {\n",
              "      border-color: transparent;\n",
              "      border-left-color: var(--fill-color);\n",
              "      border-top-color: var(--fill-color);\n",
              "    }\n",
              "    30% {\n",
              "      border-color: transparent;\n",
              "      border-left-color: var(--fill-color);\n",
              "      border-top-color: var(--fill-color);\n",
              "      border-right-color: var(--fill-color);\n",
              "    }\n",
              "    40% {\n",
              "      border-color: transparent;\n",
              "      border-right-color: var(--fill-color);\n",
              "      border-top-color: var(--fill-color);\n",
              "    }\n",
              "    60% {\n",
              "      border-color: transparent;\n",
              "      border-right-color: var(--fill-color);\n",
              "    }\n",
              "    80% {\n",
              "      border-color: transparent;\n",
              "      border-right-color: var(--fill-color);\n",
              "      border-bottom-color: var(--fill-color);\n",
              "    }\n",
              "    90% {\n",
              "      border-color: transparent;\n",
              "      border-bottom-color: var(--fill-color);\n",
              "    }\n",
              "  }\n",
              "</style>\n",
              "\n",
              "  <script>\n",
              "    async function quickchart(key) {\n",
              "      const quickchartButtonEl =\n",
              "        document.querySelector('#' + key + ' button');\n",
              "      quickchartButtonEl.disabled = true;  // To prevent multiple clicks.\n",
              "      quickchartButtonEl.classList.add('colab-df-spinner');\n",
              "      try {\n",
              "        const charts = await google.colab.kernel.invokeFunction(\n",
              "            'suggestCharts', [key], {});\n",
              "      } catch (error) {\n",
              "        console.error('Error during call to suggestCharts:', error);\n",
              "      }\n",
              "      quickchartButtonEl.classList.remove('colab-df-spinner');\n",
              "      quickchartButtonEl.classList.add('colab-df-quickchart-complete');\n",
              "    }\n",
              "    (() => {\n",
              "      let quickchartButtonEl =\n",
              "        document.querySelector('#df-9d46de3f-23d6-48e6-97af-998f64b44bcb button');\n",
              "      quickchartButtonEl.style.display =\n",
              "        google.colab.kernel.accessAllowed ? 'block' : 'none';\n",
              "    })();\n",
              "  </script>\n",
              "</div>\n",
              "\n",
              "    </div>\n",
              "  </div>\n"
            ],
            "application/vnd.google.colaboratory.intrinsic+json": {
              "type": "dataframe",
              "variable_name": "dataset"
            }
          },
          "metadata": {},
          "execution_count": 5
        }
      ]
    },
    {
      "cell_type": "markdown",
      "source": [
        "Observamos que se agrega una columna con valores nulos (probablemente por un problema de formato en el CSV). Por tanto, tenemos\n",
        "que eliminarla directamente del Dataset."
      ],
      "metadata": {
        "id": "bEkw6VN-3Ler"
      }
    },
    {
      "cell_type": "code",
      "source": [
        "#Eliminamos columna nula\n",
        "\n",
        "dataset = dataset.drop(columns=['Unnamed: 32'])"
      ],
      "metadata": {
        "id": "etRKScKc0li4"
      },
      "execution_count": null,
      "outputs": []
    },
    {
      "cell_type": "code",
      "source": [
        "dataset.head()"
      ],
      "metadata": {
        "colab": {
          "base_uri": "https://localhost:8080/",
          "height": 273
        },
        "id": "GCE3YkE70x8t",
        "outputId": "50a0482f-935b-4b8d-b0d5-0adcbe105539"
      },
      "execution_count": null,
      "outputs": [
        {
          "output_type": "execute_result",
          "data": {
            "text/plain": [
              "         id diagnosis  radius_mean  texture_mean  perimeter_mean  area_mean  \\\n",
              "0    842302         M        17.99         10.38          122.80     1001.0   \n",
              "1    842517         M        20.57         17.77          132.90     1326.0   \n",
              "2  84300903         M        19.69         21.25          130.00     1203.0   \n",
              "3  84348301         M        11.42         20.38           77.58      386.1   \n",
              "4  84358402         M        20.29         14.34          135.10     1297.0   \n",
              "\n",
              "   smoothness_mean  compactness_mean  concavity_mean  concave points_mean  \\\n",
              "0          0.11840           0.27760          0.3001              0.14710   \n",
              "1          0.08474           0.07864          0.0869              0.07017   \n",
              "2          0.10960           0.15990          0.1974              0.12790   \n",
              "3          0.14250           0.28390          0.2414              0.10520   \n",
              "4          0.10030           0.13280          0.1980              0.10430   \n",
              "\n",
              "   ...  radius_worst  texture_worst  perimeter_worst  area_worst  \\\n",
              "0  ...         25.38          17.33           184.60      2019.0   \n",
              "1  ...         24.99          23.41           158.80      1956.0   \n",
              "2  ...         23.57          25.53           152.50      1709.0   \n",
              "3  ...         14.91          26.50            98.87       567.7   \n",
              "4  ...         22.54          16.67           152.20      1575.0   \n",
              "\n",
              "   smoothness_worst  compactness_worst  concavity_worst  concave points_worst  \\\n",
              "0            0.1622             0.6656           0.7119                0.2654   \n",
              "1            0.1238             0.1866           0.2416                0.1860   \n",
              "2            0.1444             0.4245           0.4504                0.2430   \n",
              "3            0.2098             0.8663           0.6869                0.2575   \n",
              "4            0.1374             0.2050           0.4000                0.1625   \n",
              "\n",
              "   symmetry_worst  fractal_dimension_worst  \n",
              "0          0.4601                  0.11890  \n",
              "1          0.2750                  0.08902  \n",
              "2          0.3613                  0.08758  \n",
              "3          0.6638                  0.17300  \n",
              "4          0.2364                  0.07678  \n",
              "\n",
              "[5 rows x 32 columns]"
            ],
            "text/html": [
              "\n",
              "  <div id=\"df-1c16a10e-186b-4ff2-9a12-a16ec2098b25\" class=\"colab-df-container\">\n",
              "    <div>\n",
              "<style scoped>\n",
              "    .dataframe tbody tr th:only-of-type {\n",
              "        vertical-align: middle;\n",
              "    }\n",
              "\n",
              "    .dataframe tbody tr th {\n",
              "        vertical-align: top;\n",
              "    }\n",
              "\n",
              "    .dataframe thead th {\n",
              "        text-align: right;\n",
              "    }\n",
              "</style>\n",
              "<table border=\"1\" class=\"dataframe\">\n",
              "  <thead>\n",
              "    <tr style=\"text-align: right;\">\n",
              "      <th></th>\n",
              "      <th>id</th>\n",
              "      <th>diagnosis</th>\n",
              "      <th>radius_mean</th>\n",
              "      <th>texture_mean</th>\n",
              "      <th>perimeter_mean</th>\n",
              "      <th>area_mean</th>\n",
              "      <th>smoothness_mean</th>\n",
              "      <th>compactness_mean</th>\n",
              "      <th>concavity_mean</th>\n",
              "      <th>concave points_mean</th>\n",
              "      <th>...</th>\n",
              "      <th>radius_worst</th>\n",
              "      <th>texture_worst</th>\n",
              "      <th>perimeter_worst</th>\n",
              "      <th>area_worst</th>\n",
              "      <th>smoothness_worst</th>\n",
              "      <th>compactness_worst</th>\n",
              "      <th>concavity_worst</th>\n",
              "      <th>concave points_worst</th>\n",
              "      <th>symmetry_worst</th>\n",
              "      <th>fractal_dimension_worst</th>\n",
              "    </tr>\n",
              "  </thead>\n",
              "  <tbody>\n",
              "    <tr>\n",
              "      <th>0</th>\n",
              "      <td>842302</td>\n",
              "      <td>M</td>\n",
              "      <td>17.99</td>\n",
              "      <td>10.38</td>\n",
              "      <td>122.80</td>\n",
              "      <td>1001.0</td>\n",
              "      <td>0.11840</td>\n",
              "      <td>0.27760</td>\n",
              "      <td>0.3001</td>\n",
              "      <td>0.14710</td>\n",
              "      <td>...</td>\n",
              "      <td>25.38</td>\n",
              "      <td>17.33</td>\n",
              "      <td>184.60</td>\n",
              "      <td>2019.0</td>\n",
              "      <td>0.1622</td>\n",
              "      <td>0.6656</td>\n",
              "      <td>0.7119</td>\n",
              "      <td>0.2654</td>\n",
              "      <td>0.4601</td>\n",
              "      <td>0.11890</td>\n",
              "    </tr>\n",
              "    <tr>\n",
              "      <th>1</th>\n",
              "      <td>842517</td>\n",
              "      <td>M</td>\n",
              "      <td>20.57</td>\n",
              "      <td>17.77</td>\n",
              "      <td>132.90</td>\n",
              "      <td>1326.0</td>\n",
              "      <td>0.08474</td>\n",
              "      <td>0.07864</td>\n",
              "      <td>0.0869</td>\n",
              "      <td>0.07017</td>\n",
              "      <td>...</td>\n",
              "      <td>24.99</td>\n",
              "      <td>23.41</td>\n",
              "      <td>158.80</td>\n",
              "      <td>1956.0</td>\n",
              "      <td>0.1238</td>\n",
              "      <td>0.1866</td>\n",
              "      <td>0.2416</td>\n",
              "      <td>0.1860</td>\n",
              "      <td>0.2750</td>\n",
              "      <td>0.08902</td>\n",
              "    </tr>\n",
              "    <tr>\n",
              "      <th>2</th>\n",
              "      <td>84300903</td>\n",
              "      <td>M</td>\n",
              "      <td>19.69</td>\n",
              "      <td>21.25</td>\n",
              "      <td>130.00</td>\n",
              "      <td>1203.0</td>\n",
              "      <td>0.10960</td>\n",
              "      <td>0.15990</td>\n",
              "      <td>0.1974</td>\n",
              "      <td>0.12790</td>\n",
              "      <td>...</td>\n",
              "      <td>23.57</td>\n",
              "      <td>25.53</td>\n",
              "      <td>152.50</td>\n",
              "      <td>1709.0</td>\n",
              "      <td>0.1444</td>\n",
              "      <td>0.4245</td>\n",
              "      <td>0.4504</td>\n",
              "      <td>0.2430</td>\n",
              "      <td>0.3613</td>\n",
              "      <td>0.08758</td>\n",
              "    </tr>\n",
              "    <tr>\n",
              "      <th>3</th>\n",
              "      <td>84348301</td>\n",
              "      <td>M</td>\n",
              "      <td>11.42</td>\n",
              "      <td>20.38</td>\n",
              "      <td>77.58</td>\n",
              "      <td>386.1</td>\n",
              "      <td>0.14250</td>\n",
              "      <td>0.28390</td>\n",
              "      <td>0.2414</td>\n",
              "      <td>0.10520</td>\n",
              "      <td>...</td>\n",
              "      <td>14.91</td>\n",
              "      <td>26.50</td>\n",
              "      <td>98.87</td>\n",
              "      <td>567.7</td>\n",
              "      <td>0.2098</td>\n",
              "      <td>0.8663</td>\n",
              "      <td>0.6869</td>\n",
              "      <td>0.2575</td>\n",
              "      <td>0.6638</td>\n",
              "      <td>0.17300</td>\n",
              "    </tr>\n",
              "    <tr>\n",
              "      <th>4</th>\n",
              "      <td>84358402</td>\n",
              "      <td>M</td>\n",
              "      <td>20.29</td>\n",
              "      <td>14.34</td>\n",
              "      <td>135.10</td>\n",
              "      <td>1297.0</td>\n",
              "      <td>0.10030</td>\n",
              "      <td>0.13280</td>\n",
              "      <td>0.1980</td>\n",
              "      <td>0.10430</td>\n",
              "      <td>...</td>\n",
              "      <td>22.54</td>\n",
              "      <td>16.67</td>\n",
              "      <td>152.20</td>\n",
              "      <td>1575.0</td>\n",
              "      <td>0.1374</td>\n",
              "      <td>0.2050</td>\n",
              "      <td>0.4000</td>\n",
              "      <td>0.1625</td>\n",
              "      <td>0.2364</td>\n",
              "      <td>0.07678</td>\n",
              "    </tr>\n",
              "  </tbody>\n",
              "</table>\n",
              "<p>5 rows × 32 columns</p>\n",
              "</div>\n",
              "    <div class=\"colab-df-buttons\">\n",
              "\n",
              "  <div class=\"colab-df-container\">\n",
              "    <button class=\"colab-df-convert\" onclick=\"convertToInteractive('df-1c16a10e-186b-4ff2-9a12-a16ec2098b25')\"\n",
              "            title=\"Convert this dataframe to an interactive table.\"\n",
              "            style=\"display:none;\">\n",
              "\n",
              "  <svg xmlns=\"http://www.w3.org/2000/svg\" height=\"24px\" viewBox=\"0 -960 960 960\">\n",
              "    <path d=\"M120-120v-720h720v720H120Zm60-500h600v-160H180v160Zm220 220h160v-160H400v160Zm0 220h160v-160H400v160ZM180-400h160v-160H180v160Zm440 0h160v-160H620v160ZM180-180h160v-160H180v160Zm440 0h160v-160H620v160Z\"/>\n",
              "  </svg>\n",
              "    </button>\n",
              "\n",
              "  <style>\n",
              "    .colab-df-container {\n",
              "      display:flex;\n",
              "      gap: 12px;\n",
              "    }\n",
              "\n",
              "    .colab-df-convert {\n",
              "      background-color: #E8F0FE;\n",
              "      border: none;\n",
              "      border-radius: 50%;\n",
              "      cursor: pointer;\n",
              "      display: none;\n",
              "      fill: #1967D2;\n",
              "      height: 32px;\n",
              "      padding: 0 0 0 0;\n",
              "      width: 32px;\n",
              "    }\n",
              "\n",
              "    .colab-df-convert:hover {\n",
              "      background-color: #E2EBFA;\n",
              "      box-shadow: 0px 1px 2px rgba(60, 64, 67, 0.3), 0px 1px 3px 1px rgba(60, 64, 67, 0.15);\n",
              "      fill: #174EA6;\n",
              "    }\n",
              "\n",
              "    .colab-df-buttons div {\n",
              "      margin-bottom: 4px;\n",
              "    }\n",
              "\n",
              "    [theme=dark] .colab-df-convert {\n",
              "      background-color: #3B4455;\n",
              "      fill: #D2E3FC;\n",
              "    }\n",
              "\n",
              "    [theme=dark] .colab-df-convert:hover {\n",
              "      background-color: #434B5C;\n",
              "      box-shadow: 0px 1px 3px 1px rgba(0, 0, 0, 0.15);\n",
              "      filter: drop-shadow(0px 1px 2px rgba(0, 0, 0, 0.3));\n",
              "      fill: #FFFFFF;\n",
              "    }\n",
              "  </style>\n",
              "\n",
              "    <script>\n",
              "      const buttonEl =\n",
              "        document.querySelector('#df-1c16a10e-186b-4ff2-9a12-a16ec2098b25 button.colab-df-convert');\n",
              "      buttonEl.style.display =\n",
              "        google.colab.kernel.accessAllowed ? 'block' : 'none';\n",
              "\n",
              "      async function convertToInteractive(key) {\n",
              "        const element = document.querySelector('#df-1c16a10e-186b-4ff2-9a12-a16ec2098b25');\n",
              "        const dataTable =\n",
              "          await google.colab.kernel.invokeFunction('convertToInteractive',\n",
              "                                                    [key], {});\n",
              "        if (!dataTable) return;\n",
              "\n",
              "        const docLinkHtml = 'Like what you see? Visit the ' +\n",
              "          '<a target=\"_blank\" href=https://colab.research.google.com/notebooks/data_table.ipynb>data table notebook</a>'\n",
              "          + ' to learn more about interactive tables.';\n",
              "        element.innerHTML = '';\n",
              "        dataTable['output_type'] = 'display_data';\n",
              "        await google.colab.output.renderOutput(dataTable, element);\n",
              "        const docLink = document.createElement('div');\n",
              "        docLink.innerHTML = docLinkHtml;\n",
              "        element.appendChild(docLink);\n",
              "      }\n",
              "    </script>\n",
              "  </div>\n",
              "\n",
              "\n",
              "<div id=\"df-53c966d2-81d3-48a9-8b4a-2d3d3de6a7ba\">\n",
              "  <button class=\"colab-df-quickchart\" onclick=\"quickchart('df-53c966d2-81d3-48a9-8b4a-2d3d3de6a7ba')\"\n",
              "            title=\"Suggest charts\"\n",
              "            style=\"display:none;\">\n",
              "\n",
              "<svg xmlns=\"http://www.w3.org/2000/svg\" height=\"24px\"viewBox=\"0 0 24 24\"\n",
              "     width=\"24px\">\n",
              "    <g>\n",
              "        <path d=\"M19 3H5c-1.1 0-2 .9-2 2v14c0 1.1.9 2 2 2h14c1.1 0 2-.9 2-2V5c0-1.1-.9-2-2-2zM9 17H7v-7h2v7zm4 0h-2V7h2v10zm4 0h-2v-4h2v4z\"/>\n",
              "    </g>\n",
              "</svg>\n",
              "  </button>\n",
              "\n",
              "<style>\n",
              "  .colab-df-quickchart {\n",
              "      --bg-color: #E8F0FE;\n",
              "      --fill-color: #1967D2;\n",
              "      --hover-bg-color: #E2EBFA;\n",
              "      --hover-fill-color: #174EA6;\n",
              "      --disabled-fill-color: #AAA;\n",
              "      --disabled-bg-color: #DDD;\n",
              "  }\n",
              "\n",
              "  [theme=dark] .colab-df-quickchart {\n",
              "      --bg-color: #3B4455;\n",
              "      --fill-color: #D2E3FC;\n",
              "      --hover-bg-color: #434B5C;\n",
              "      --hover-fill-color: #FFFFFF;\n",
              "      --disabled-bg-color: #3B4455;\n",
              "      --disabled-fill-color: #666;\n",
              "  }\n",
              "\n",
              "  .colab-df-quickchart {\n",
              "    background-color: var(--bg-color);\n",
              "    border: none;\n",
              "    border-radius: 50%;\n",
              "    cursor: pointer;\n",
              "    display: none;\n",
              "    fill: var(--fill-color);\n",
              "    height: 32px;\n",
              "    padding: 0;\n",
              "    width: 32px;\n",
              "  }\n",
              "\n",
              "  .colab-df-quickchart:hover {\n",
              "    background-color: var(--hover-bg-color);\n",
              "    box-shadow: 0 1px 2px rgba(60, 64, 67, 0.3), 0 1px 3px 1px rgba(60, 64, 67, 0.15);\n",
              "    fill: var(--button-hover-fill-color);\n",
              "  }\n",
              "\n",
              "  .colab-df-quickchart-complete:disabled,\n",
              "  .colab-df-quickchart-complete:disabled:hover {\n",
              "    background-color: var(--disabled-bg-color);\n",
              "    fill: var(--disabled-fill-color);\n",
              "    box-shadow: none;\n",
              "  }\n",
              "\n",
              "  .colab-df-spinner {\n",
              "    border: 2px solid var(--fill-color);\n",
              "    border-color: transparent;\n",
              "    border-bottom-color: var(--fill-color);\n",
              "    animation:\n",
              "      spin 1s steps(1) infinite;\n",
              "  }\n",
              "\n",
              "  @keyframes spin {\n",
              "    0% {\n",
              "      border-color: transparent;\n",
              "      border-bottom-color: var(--fill-color);\n",
              "      border-left-color: var(--fill-color);\n",
              "    }\n",
              "    20% {\n",
              "      border-color: transparent;\n",
              "      border-left-color: var(--fill-color);\n",
              "      border-top-color: var(--fill-color);\n",
              "    }\n",
              "    30% {\n",
              "      border-color: transparent;\n",
              "      border-left-color: var(--fill-color);\n",
              "      border-top-color: var(--fill-color);\n",
              "      border-right-color: var(--fill-color);\n",
              "    }\n",
              "    40% {\n",
              "      border-color: transparent;\n",
              "      border-right-color: var(--fill-color);\n",
              "      border-top-color: var(--fill-color);\n",
              "    }\n",
              "    60% {\n",
              "      border-color: transparent;\n",
              "      border-right-color: var(--fill-color);\n",
              "    }\n",
              "    80% {\n",
              "      border-color: transparent;\n",
              "      border-right-color: var(--fill-color);\n",
              "      border-bottom-color: var(--fill-color);\n",
              "    }\n",
              "    90% {\n",
              "      border-color: transparent;\n",
              "      border-bottom-color: var(--fill-color);\n",
              "    }\n",
              "  }\n",
              "</style>\n",
              "\n",
              "  <script>\n",
              "    async function quickchart(key) {\n",
              "      const quickchartButtonEl =\n",
              "        document.querySelector('#' + key + ' button');\n",
              "      quickchartButtonEl.disabled = true;  // To prevent multiple clicks.\n",
              "      quickchartButtonEl.classList.add('colab-df-spinner');\n",
              "      try {\n",
              "        const charts = await google.colab.kernel.invokeFunction(\n",
              "            'suggestCharts', [key], {});\n",
              "      } catch (error) {\n",
              "        console.error('Error during call to suggestCharts:', error);\n",
              "      }\n",
              "      quickchartButtonEl.classList.remove('colab-df-spinner');\n",
              "      quickchartButtonEl.classList.add('colab-df-quickchart-complete');\n",
              "    }\n",
              "    (() => {\n",
              "      let quickchartButtonEl =\n",
              "        document.querySelector('#df-53c966d2-81d3-48a9-8b4a-2d3d3de6a7ba button');\n",
              "      quickchartButtonEl.style.display =\n",
              "        google.colab.kernel.accessAllowed ? 'block' : 'none';\n",
              "    })();\n",
              "  </script>\n",
              "</div>\n",
              "\n",
              "    </div>\n",
              "  </div>\n"
            ],
            "application/vnd.google.colaboratory.intrinsic+json": {
              "type": "dataframe",
              "variable_name": "dataset"
            }
          },
          "metadata": {},
          "execution_count": 7
        }
      ]
    },
    {
      "cell_type": "markdown",
      "source": [
        "Comenzaremos con la limpieza de valores nulos, en caso existan:"
      ],
      "metadata": {
        "id": "WppCwaSS2YAR"
      }
    },
    {
      "cell_type": "code",
      "source": [
        "#Verificamos la existencia de valores nulos por columna\n",
        "\n",
        "dataset.isnull().sum()"
      ],
      "metadata": {
        "colab": {
          "base_uri": "https://localhost:8080/",
          "height": 1000
        },
        "id": "_9WsjPqo2iQa",
        "outputId": "6e065ae6-2276-44c3-fce7-095a525ba409"
      },
      "execution_count": null,
      "outputs": [
        {
          "output_type": "execute_result",
          "data": {
            "text/plain": [
              "id                         0\n",
              "diagnosis                  0\n",
              "radius_mean                0\n",
              "texture_mean               0\n",
              "perimeter_mean             0\n",
              "area_mean                  0\n",
              "smoothness_mean            0\n",
              "compactness_mean           0\n",
              "concavity_mean             0\n",
              "concave points_mean        0\n",
              "symmetry_mean              0\n",
              "fractal_dimension_mean     0\n",
              "radius_se                  0\n",
              "texture_se                 0\n",
              "perimeter_se               0\n",
              "area_se                    0\n",
              "smoothness_se              0\n",
              "compactness_se             0\n",
              "concavity_se               0\n",
              "concave points_se          0\n",
              "symmetry_se                0\n",
              "fractal_dimension_se       0\n",
              "radius_worst               0\n",
              "texture_worst              0\n",
              "perimeter_worst            0\n",
              "area_worst                 0\n",
              "smoothness_worst           0\n",
              "compactness_worst          0\n",
              "concavity_worst            0\n",
              "concave points_worst       0\n",
              "symmetry_worst             0\n",
              "fractal_dimension_worst    0\n",
              "dtype: int64"
            ],
            "text/html": [
              "<div>\n",
              "<style scoped>\n",
              "    .dataframe tbody tr th:only-of-type {\n",
              "        vertical-align: middle;\n",
              "    }\n",
              "\n",
              "    .dataframe tbody tr th {\n",
              "        vertical-align: top;\n",
              "    }\n",
              "\n",
              "    .dataframe thead th {\n",
              "        text-align: right;\n",
              "    }\n",
              "</style>\n",
              "<table border=\"1\" class=\"dataframe\">\n",
              "  <thead>\n",
              "    <tr style=\"text-align: right;\">\n",
              "      <th></th>\n",
              "      <th>0</th>\n",
              "    </tr>\n",
              "  </thead>\n",
              "  <tbody>\n",
              "    <tr>\n",
              "      <th>id</th>\n",
              "      <td>0</td>\n",
              "    </tr>\n",
              "    <tr>\n",
              "      <th>diagnosis</th>\n",
              "      <td>0</td>\n",
              "    </tr>\n",
              "    <tr>\n",
              "      <th>radius_mean</th>\n",
              "      <td>0</td>\n",
              "    </tr>\n",
              "    <tr>\n",
              "      <th>texture_mean</th>\n",
              "      <td>0</td>\n",
              "    </tr>\n",
              "    <tr>\n",
              "      <th>perimeter_mean</th>\n",
              "      <td>0</td>\n",
              "    </tr>\n",
              "    <tr>\n",
              "      <th>area_mean</th>\n",
              "      <td>0</td>\n",
              "    </tr>\n",
              "    <tr>\n",
              "      <th>smoothness_mean</th>\n",
              "      <td>0</td>\n",
              "    </tr>\n",
              "    <tr>\n",
              "      <th>compactness_mean</th>\n",
              "      <td>0</td>\n",
              "    </tr>\n",
              "    <tr>\n",
              "      <th>concavity_mean</th>\n",
              "      <td>0</td>\n",
              "    </tr>\n",
              "    <tr>\n",
              "      <th>concave points_mean</th>\n",
              "      <td>0</td>\n",
              "    </tr>\n",
              "    <tr>\n",
              "      <th>symmetry_mean</th>\n",
              "      <td>0</td>\n",
              "    </tr>\n",
              "    <tr>\n",
              "      <th>fractal_dimension_mean</th>\n",
              "      <td>0</td>\n",
              "    </tr>\n",
              "    <tr>\n",
              "      <th>radius_se</th>\n",
              "      <td>0</td>\n",
              "    </tr>\n",
              "    <tr>\n",
              "      <th>texture_se</th>\n",
              "      <td>0</td>\n",
              "    </tr>\n",
              "    <tr>\n",
              "      <th>perimeter_se</th>\n",
              "      <td>0</td>\n",
              "    </tr>\n",
              "    <tr>\n",
              "      <th>area_se</th>\n",
              "      <td>0</td>\n",
              "    </tr>\n",
              "    <tr>\n",
              "      <th>smoothness_se</th>\n",
              "      <td>0</td>\n",
              "    </tr>\n",
              "    <tr>\n",
              "      <th>compactness_se</th>\n",
              "      <td>0</td>\n",
              "    </tr>\n",
              "    <tr>\n",
              "      <th>concavity_se</th>\n",
              "      <td>0</td>\n",
              "    </tr>\n",
              "    <tr>\n",
              "      <th>concave points_se</th>\n",
              "      <td>0</td>\n",
              "    </tr>\n",
              "    <tr>\n",
              "      <th>symmetry_se</th>\n",
              "      <td>0</td>\n",
              "    </tr>\n",
              "    <tr>\n",
              "      <th>fractal_dimension_se</th>\n",
              "      <td>0</td>\n",
              "    </tr>\n",
              "    <tr>\n",
              "      <th>radius_worst</th>\n",
              "      <td>0</td>\n",
              "    </tr>\n",
              "    <tr>\n",
              "      <th>texture_worst</th>\n",
              "      <td>0</td>\n",
              "    </tr>\n",
              "    <tr>\n",
              "      <th>perimeter_worst</th>\n",
              "      <td>0</td>\n",
              "    </tr>\n",
              "    <tr>\n",
              "      <th>area_worst</th>\n",
              "      <td>0</td>\n",
              "    </tr>\n",
              "    <tr>\n",
              "      <th>smoothness_worst</th>\n",
              "      <td>0</td>\n",
              "    </tr>\n",
              "    <tr>\n",
              "      <th>compactness_worst</th>\n",
              "      <td>0</td>\n",
              "    </tr>\n",
              "    <tr>\n",
              "      <th>concavity_worst</th>\n",
              "      <td>0</td>\n",
              "    </tr>\n",
              "    <tr>\n",
              "      <th>concave points_worst</th>\n",
              "      <td>0</td>\n",
              "    </tr>\n",
              "    <tr>\n",
              "      <th>symmetry_worst</th>\n",
              "      <td>0</td>\n",
              "    </tr>\n",
              "    <tr>\n",
              "      <th>fractal_dimension_worst</th>\n",
              "      <td>0</td>\n",
              "    </tr>\n",
              "  </tbody>\n",
              "</table>\n",
              "</div><br><label><b>dtype:</b> int64</label>"
            ]
          },
          "metadata": {},
          "execution_count": 8
        }
      ]
    },
    {
      "cell_type": "markdown",
      "source": [
        "Observamos que, para el presente conjunto de datos, no existen valores nulos en ninguna de las columnas. Por tanto, podemos proseguir con el experimento."
      ],
      "metadata": {
        "id": "X4FiiVFd3XKh"
      }
    },
    {
      "cell_type": "markdown",
      "source": [
        "OBservación: Asimismo, es bastante claro que el 'id' de una respectiva instancia es poco relevante y podría impedir una selección de atributos óptima. Sin embargo, este no será eliminado para probar la capacidad de los distintos métodos de selección de atributos."
      ],
      "metadata": {
        "id": "yaQyyEWO5tTo"
      }
    },
    {
      "cell_type": "markdown",
      "source": [
        "# **1. Selección de Atributos**\n",
        "Un modelo de Inteligencia Artificial es capaz de realizar predicciones en base a los diferentes datos que se obtengan de una fuente de información. Sin embargo, una gran cantidad de atributos puede ser contraproducente para el modelo. Es por ello que realizaremos una técnica de selección de atributos; para cada una de las técnicas aplicadas y los atributos obtenidos realizaremos un modelo diferente."
      ],
      "metadata": {
        "id": "q4axxLfv4Ghc"
      }
    },
    {
      "cell_type": "code",
      "source": [
        "#Cargamos las respectivas bibliotecas\n",
        "import pandas as pd\n",
        "import numpy as np\n",
        "from sklearn.feature_selection import SelectKBest\n",
        "from sklearn.feature_selection import chi2, f_classif\n",
        "np.set_printoptions(precision=2)   # setea para que solo se impriman 2 decimales\n",
        "\n",
        "array = dataset.values;\n",
        "\n",
        "# Separamos atributos y el target\n",
        "X = np.delete(array, 1, axis=1)  # Eliminamos la segunda columna (índice 1) de los atributos, ya que es el target como tal\n",
        "y = array[:, 1]  #Incluímos la segunda columna (el target)"
      ],
      "metadata": {
        "id": "kMrD-9iu4ABa"
      },
      "execution_count": null,
      "outputs": []
    },
    {
      "cell_type": "markdown",
      "source": [
        "##Selección de atributos con Filtros"
      ],
      "metadata": {
        "id": "gmsDXpH07JjY"
      }
    },
    {
      "cell_type": "markdown",
      "source": [
        "La selección de atributos con filtro tiene como objetivo evaluar la relevancia de los atributos en función del target, apoyándose de pruebas estadísticas. Para el presente experimento, nos apoyaremos de la prueba Chi-Cuadrado, la cual es bastante popular y efectiva para medir la independencia entre variables.\n",
        "\n",
        "Consideramos un k = 12, poco menos de la mitad de atributos totales (32)"
      ],
      "metadata": {
        "id": "yJV0Fevy7xQd"
      }
    },
    {
      "cell_type": "code",
      "source": [
        "fit_selector = SelectKBest(score_func=chi2, k=12).fit(X, y)\n",
        "\n",
        "# muestra resultados de seleccion\n",
        "print(\"Atributos Seleccionados: {}\".format(fit_selector.get_support(indices=True)))\n",
        "print(\"Scores de Atributos: {}\".format(fit_selector.scores_))"
      ],
      "metadata": {
        "colab": {
          "base_uri": "https://localhost:8080/"
        },
        "id": "D47DfoFV7V4d",
        "outputId": "9d136edb-d2be-4b64-e4fd-720ab1946077"
      },
      "execution_count": null,
      "outputs": [
        {
          "output_type": "stream",
          "name": "stdout",
          "text": [
            "Atributos Seleccionados: [ 0  1  2  3  4 13 14 21 22 23 24 27]\n",
            "Scores de Atributos: [4.62e+08 2.66e+02 9.39e+01 2.01e+03 5.40e+04 1.50e-01 5.40e+00 1.97e+01\n",
            " 1.05e+01 2.57e-01 7.43e-05 3.47e+01 9.79e-03 2.51e+02 8.76e+03 3.27e-03\n",
            " 6.14e-01 1.04e+00 3.05e-01 8.04e-05 6.37e-03 4.92e+02 1.74e+02 3.67e+03\n",
            " 1.13e+05 3.97e-01 1.93e+01 3.95e+01 1.35e+01 1.30e+00 2.32e-01]\n"
          ]
        }
      ]
    },
    {
      "cell_type": "markdown",
      "source": [
        "Ahora, obtendremos el dataset reducido, para utilizarlo más adelante en el entrenamiento del ML"
      ],
      "metadata": {
        "id": "Ak37h9iL9xFu"
      }
    },
    {
      "cell_type": "code",
      "source": [
        "X_filtered_chi2 = fit_selector.transform(X)\n",
        "print(X_filtered_chi2)"
      ],
      "metadata": {
        "colab": {
          "base_uri": "https://localhost:8080/"
        },
        "id": "9jEmn4wm9v2A",
        "outputId": "60678c0e-9def-4288-aea2-21b46b66625a"
      },
      "execution_count": null,
      "outputs": [
        {
          "output_type": "stream",
          "name": "stdout",
          "text": [
            "[[842302 17.99 10.38 ... 184.6 2019.0 0.7119]\n",
            " [842517 20.57 17.77 ... 158.8 1956.0 0.2416]\n",
            " [84300903 19.69 21.25 ... 152.5 1709.0 0.4504]\n",
            " ...\n",
            " [926954 16.6 28.08 ... 126.7 1124.0 0.3403]\n",
            " [927241 20.6 29.33 ... 184.6 1821.0 0.9387]\n",
            " [92751 7.76 24.54 ... 59.16 268.6 0.0]]\n"
          ]
        }
      ]
    },
    {
      "cell_type": "markdown",
      "source": [
        "##Selección de atributos con Wrappers\n",
        "\n"
      ],
      "metadata": {
        "id": "JXLYVWkV-AzO"
      }
    },
    {
      "cell_type": "markdown",
      "source": [
        "A diferencia de los Filtros, la selección de atributos por Wrappers no se apoyan directamente de inferencias estadísticas, ya que hacen uso de un modelo de ML para la selección de atributos, lo cual implica que esta metodología tiene que realizar un proceso iterativo.\n",
        "\n",
        "La cantidad de atributos a seleccionar será la misma que en el método anterior (12), por lo que seleccionaremos un número alto de iteraciones (15000) para asegurar la convergencia del modelo logístico"
      ],
      "metadata": {
        "id": "6LNEUezF-LZR"
      }
    },
    {
      "cell_type": "code",
      "source": [
        "# aplica RFE con algoritmo Logistic Regression como evaluador de atributos. Se le pide los mejores 4 atributos\n",
        "predictor = LogisticRegression(max_iter=15000)  # define modelo predictor (regresor logistico)\n",
        "rfe = RFE(predictor, n_features_to_select=12)    # instancia objeto RFE\n",
        "fit_selector = rfe.fit(X, y)    # ejecuta el algoritmo RFE con la data pasada\n",
        "\n",
        "print(\"Numero de Atributos: {}\".format(fit_selector.n_features_))\n",
        "print(\"Atributos Seleccionados: {}\".format(fit_selector.get_support(indices=True)))\n",
        "print(\"Ranking de Atributos: {}\".format(fit_selector.ranking_))"
      ],
      "metadata": {
        "colab": {
          "base_uri": "https://localhost:8080/"
        },
        "id": "xXr-6SCE-4rO",
        "outputId": "5293e464-fc04-4f81-f525-28ca64771265"
      },
      "execution_count": null,
      "outputs": [
        {
          "output_type": "stream",
          "name": "stdout",
          "text": [
            "Numero de Atributos: 12\n",
            "Atributos Seleccionados: [ 1  6  7  8 12 13 21 25 26 27 28 29]\n",
            "Ranking de Atributos: [20  1  5 11 18  4  1  1  1  2 14 10  1  1  7 16  9 15 13 12 17  1  3  6\n",
            " 19  1  1  1  1  1  8]\n"
          ]
        }
      ]
    },
    {
      "cell_type": "code",
      "source": [
        "X_filtered_RFE = fit_selector.transform(X)\n",
        "print(X_filtered_RFE)"
      ],
      "metadata": {
        "colab": {
          "base_uri": "https://localhost:8080/"
        },
        "id": "CEm6QdPEAZuS",
        "outputId": "5f1851ca-d9c4-4a2c-95a8-267d40e78ac1"
      },
      "execution_count": null,
      "outputs": [
        {
          "output_type": "stream",
          "name": "stdout",
          "text": [
            "[[17.99 0.2776 0.3001 ... 0.7119 0.2654 0.4601]\n",
            " [20.57 0.07864 0.0869 ... 0.2416 0.186 0.275]\n",
            " [19.69 0.1599 0.1974 ... 0.4504 0.243 0.3613]\n",
            " ...\n",
            " [16.6 0.1023 0.09251 ... 0.3403 0.1418 0.2218]\n",
            " [20.6 0.277 0.3514 ... 0.9387 0.265 0.4087]\n",
            " [7.76 0.04362 0.0 ... 0.0 0.0 0.2871]]\n"
          ]
        }
      ]
    },
    {
      "cell_type": "markdown",
      "source": [
        "# **2. Transformación de Atributos**"
      ],
      "metadata": {
        "id": "HAp0DVDIBCcf"
      }
    },
    {
      "cell_type": "markdown",
      "source": [
        "Por otro lado, tal y como se mencionó previamente, es necesario que el modelo no tenga una cantidad de atributos demasiado grande ya que puede influir negativamente en su desempeño. Bajo dicha idea, otra de las técnicas de reducción dimensional es la popular transformación de atributos que, como su nombre bien indica, antes de buscar descartar directamente atributos, lo que busca es la transformación de estos, principalmente buscando la reducción de su dimensionalidad sin perder la información de los datos.\n",
        "\n",
        "Para el presente experimento, buscaremos que la proyección también nos devuelva un dataset igual a 12."
      ],
      "metadata": {
        "id": "WGGFFQsWBJpZ"
      }
    },
    {
      "cell_type": "markdown",
      "source": [
        "##Análisis de Componentes Principales (PCA)"
      ],
      "metadata": {
        "id": "3P3IMjClBkUV"
      }
    },
    {
      "cell_type": "markdown",
      "source": [
        "Probablemente el análisis más importante para la transformación de atributos, el Ánalisis de Componentes Principales (PCA por sus siglas) busca transformar un conjunto de atributos originales en nuevo conjunto de variables, los cuales pasan a llamarse 'componentes principales'. Dichos componentes en realidad son combinaciones lineales de los atributos originales, los cuales han de contener la mayor varianza de los datos."
      ],
      "metadata": {
        "id": "mXVB4KnaCChf"
      }
    },
    {
      "cell_type": "markdown",
      "source": [
        "Primero, hemos de aplicar un componente de estandarización"
      ],
      "metadata": {
        "id": "ocnlQlPiC3Ew"
      }
    },
    {
      "cell_type": "code",
      "source": [
        "#Importamos las respectivas librerias para realizar aplicar PCA y estandarización\n",
        "from sklearn.decomposition import PCA\n",
        "from sklearn.preprocessing import StandardScaler\n",
        "\n",
        "# Utilizaremos StandardScaler para estandarizar todas las columnas de los atributos originales\n",
        "standardizer = StandardScaler()\n",
        "standardizedX = standardizer.fit_transform(X)"
      ],
      "metadata": {
        "id": "SaXfhiVhC59X"
      },
      "execution_count": null,
      "outputs": []
    },
    {
      "cell_type": "markdown",
      "source": [
        "Posteriormente, aplicamos PCA y obtenemos los componentes principales"
      ],
      "metadata": {
        "id": "3Pz2b9WiDVH8"
      }
    },
    {
      "cell_type": "code",
      "source": [
        "# aplica transformacion PCA\n",
        "pca = PCA(n_components=12)\n",
        "fit_pca = pca.fit(standardizedX)\n",
        "X_transformed_pca = fit_pca.transform(standardizedX)\n",
        "\n",
        "# muestra resultados de transformacion PCA\n",
        "print(\"Ratio de varianza explicada: {}\".format(fit_pca.explained_variance_ratio_))"
      ],
      "metadata": {
        "colab": {
          "base_uri": "https://localhost:8080/"
        },
        "id": "fIxkGgI0DbVx",
        "outputId": "17bad75f-41b2-475b-c9a3-92b9f8facf59"
      },
      "execution_count": null,
      "outputs": [
        {
          "output_type": "stream",
          "name": "stdout",
          "text": [
            "Ratio de varianza explicada: [0.43 0.18 0.09 0.06 0.05 0.04 0.03 0.02 0.01 0.01 0.01 0.01]\n"
          ]
        }
      ]
    },
    {
      "cell_type": "code",
      "source": [
        "X_transformed_pca"
      ],
      "metadata": {
        "colab": {
          "base_uri": "https://localhost:8080/"
        },
        "id": "2rqj26pEDb2r",
        "outputId": "604ae013-8ba5-4450-cd0d-cc7421f4d177"
      },
      "execution_count": null,
      "outputs": [
        {
          "output_type": "execute_result",
          "data": {
            "text/plain": [
              "array([[ 9.18,  1.97, -1.17, ..., -0.09, -0.88,  0.26],\n",
              "       [ 2.38, -3.75, -0.58, ..., -0.66,  1.09,  0.81],\n",
              "       [ 5.74, -1.08, -0.53, ..., -0.08,  0.43, -0.6 ],\n",
              "       ...,\n",
              "       [ 1.25, -1.89,  0.53, ...,  0.48,  0.58, -0.85],\n",
              "       [10.37,  1.7 , -1.91, ..., -0.52, -0.12, -0.18],\n",
              "       [-5.48, -0.67,  1.48, ...,  0.68,  0.05, -0.15]])"
            ]
          },
          "metadata": {},
          "execution_count": 17
        }
      ]
    },
    {
      "cell_type": "code",
      "source": [
        "print(\"Componentes principales:\")\n",
        "print(fit_pca.components_)"
      ],
      "metadata": {
        "colab": {
          "base_uri": "https://localhost:8080/"
        },
        "id": "2Ah7yGiqDhNS",
        "outputId": "583573ff-cd83-4511-db24-fd26d91f8e99"
      },
      "execution_count": null,
      "outputs": [
        {
          "output_type": "stream",
          "name": "stdout",
          "text": [
            "Componentes principales:\n",
            "[[ 2.29e-02  2.19e-01  1.04e-01  2.28e-01  2.21e-01  1.42e-01  2.39e-01\n",
            "   2.58e-01  2.61e-01  1.38e-01  6.41e-02  2.06e-01  1.74e-02  2.11e-01\n",
            "   2.03e-01  1.47e-02  1.70e-01  1.54e-01  1.83e-01  4.24e-02  1.02e-01\n",
            "   2.28e-01  1.05e-01  2.37e-01  2.25e-01  1.28e-01  2.10e-01  2.29e-01\n",
            "   2.51e-01  1.23e-01  1.32e-01]\n",
            " [-3.41e-02 -2.33e-01 -6.00e-02 -2.15e-01 -2.31e-01  1.86e-01  1.52e-01\n",
            "   6.05e-02 -3.42e-02  1.91e-01  3.67e-01 -1.06e-01  8.95e-02 -8.98e-02\n",
            "  -1.53e-01  2.03e-01  2.33e-01  1.97e-01  1.30e-01  1.84e-01  2.80e-01\n",
            "  -2.19e-01 -4.55e-02 -1.99e-01 -2.19e-01  1.73e-01  1.44e-01  9.85e-02\n",
            "  -7.53e-03  1.43e-01  2.76e-01]\n",
            " [ 9.69e-02 -1.14e-02  6.69e-02 -1.21e-02  2.63e-02 -1.03e-01 -7.48e-02\n",
            "   1.76e-03 -2.76e-02 -4.10e-02 -2.08e-02  2.67e-01  3.71e-01  2.65e-01\n",
            "   2.16e-01  3.12e-01  1.55e-01  1.77e-01  2.24e-01  2.85e-01  2.12e-01\n",
            "  -4.94e-02 -3.98e-02 -5.04e-02 -1.32e-02 -2.55e-01 -2.35e-01 -1.72e-01\n",
            "  -1.70e-01 -2.71e-01 -2.29e-01]\n",
            " [ 2.66e-02 -4.22e-02  6.03e-01 -4.28e-02 -5.41e-02 -1.58e-01 -3.18e-02\n",
            "  -1.95e-02 -6.58e-02 -6.75e-02 -4.80e-02 -9.91e-02  3.56e-01 -9.03e-02\n",
            "  -1.09e-01 -4.44e-02  2.64e-02 -2.25e-03 -7.53e-02 -4.69e-02 -1.62e-02\n",
            "  -1.57e-02  6.33e-01 -1.41e-02 -2.60e-02 -1.45e-02  9.26e-02  7.48e-02\n",
            "  -5.31e-03  3.71e-02  7.90e-02]\n",
            " [ 1.13e-02 -3.81e-02  4.91e-02 -3.77e-02 -1.06e-02  3.66e-01 -1.18e-02\n",
            "  -8.65e-02  4.37e-02  3.05e-01  4.48e-02  1.54e-01  1.90e-01  1.21e-01\n",
            "   1.28e-01  2.33e-01 -2.80e-01 -3.54e-01 -1.96e-01  2.51e-01 -2.63e-01\n",
            "   4.28e-03  9.26e-02 -7.60e-03  2.74e-02  3.26e-01 -1.22e-01 -1.88e-01\n",
            "  -4.31e-02  2.44e-01 -9.37e-02]\n",
            " [-3.17e-01  2.96e-02 -3.14e-02  2.84e-02  6.11e-03 -2.63e-01 -4.90e-03\n",
            "  -2.36e-03 -3.45e-02  3.35e-01 -1.13e-01 -2.33e-02  2.29e-02  3.82e-03\n",
            "  -5.20e-02 -3.31e-01  6.68e-02  4.97e-02 -2.32e-02  4.78e-01 -4.85e-02\n",
            "   4.52e-03 -4.52e-02  1.29e-02 -2.40e-02 -3.65e-01  3.40e-02  1.80e-02\n",
            "  -2.95e-02  4.51e-01 -9.25e-02]\n",
            " [ 9.07e-01 -4.23e-02  1.50e-02 -4.36e-02 -2.89e-02 -1.40e-01 -4.53e-02\n",
            "  -3.26e-02 -8.14e-02  1.18e-01 -4.11e-02  1.68e-02 -1.90e-01  1.95e-02\n",
            "   5.66e-02 -6.78e-02  2.22e-02  3.37e-02 -3.79e-02  1.18e-01 -1.58e-02\n",
            "  -1.66e-02 -9.46e-03 -1.45e-02 -7.37e-04 -6.71e-02  5.08e-02  3.52e-02\n",
            "  -2.07e-02  2.34e-01  3.47e-02]\n",
            " [-9.64e-02 -1.16e-01  1.88e-03 -1.06e-01 -4.74e-02 -1.24e-01  4.31e-02\n",
            "  -1.02e-01 -1.37e-01 -9.89e-02  3.06e-01  3.07e-01 -5.26e-02  3.11e-01\n",
            "   3.34e-01 -2.61e-01  2.10e-02 -2.19e-01 -3.70e-01 -8.49e-02  1.94e-01\n",
            "  -7.51e-03  6.62e-03  2.16e-03  6.62e-02 -1.16e-01  1.37e-01 -6.71e-02\n",
            "  -1.67e-01 -4.14e-02  3.72e-01]\n",
            " [-1.49e-01  4.63e-02  8.87e-02  3.62e-02  8.06e-02 -2.79e-01 -9.92e-02\n",
            "  -7.58e-02 -1.17e-01 -3.15e-01 -1.31e-01 -2.62e-02 -3.73e-01 -5.29e-02\n",
            "   3.06e-02  5.81e-01  1.49e-01 -3.47e-02 -1.89e-01  2.93e-01  6.02e-02\n",
            "   7.02e-02  8.57e-03  5.89e-02  9.70e-02  1.73e-01  1.11e-01  3.55e-02\n",
            "  -5.23e-02  1.88e-01  8.72e-02]\n",
            " [-1.69e-01 -2.24e-01  1.19e-01 -2.26e-01 -1.86e-01 -6.13e-02 -1.95e-01\n",
            "   3.40e-02 -1.43e-01  1.36e-01 -1.58e-01  2.65e-01 -3.15e-01  2.38e-01\n",
            "   2.50e-01 -1.02e-02 -1.15e-01  3.66e-01  2.15e-01 -2.20e-01 -2.26e-01\n",
            "  -9.98e-02  1.07e-01 -9.82e-02 -6.18e-02  1.69e-01 -6.45e-02  1.97e-01\n",
            "   5.12e-02  1.03e-01 -1.13e-01]\n",
            " [-5.82e-02  7.95e-02  2.53e-01  6.99e-02  6.28e-02 -8.47e-02 -5.17e-03\n",
            "  -1.35e-01 -6.12e-03  5.74e-01  6.65e-02 -2.58e-02 -3.23e-01 -9.49e-02\n",
            "  -7.20e-02  1.80e-01  3.86e-02 -1.14e-01  9.41e-02 -3.28e-01  3.54e-01\n",
            "   7.30e-02  3.86e-02  4.58e-02  6.88e-02 -1.09e-01 -1.75e-01 -2.96e-01\n",
            "  -7.55e-02 -1.92e-02  7.07e-03]\n",
            " [ 6.72e-03  4.22e-02 -3.04e-01  1.76e-02  1.11e-01 -1.35e-01 -3.07e-01\n",
            "   1.25e-01 -7.16e-02  1.61e-01 -3.73e-02 -2.70e-02  3.48e-01 -1.69e-01\n",
            "   5.07e-02  8.18e-02 -2.07e-01  3.48e-01 -3.43e-01 -1.86e-01  2.50e-01\n",
            "   1.05e-01  1.25e-02  5.11e-02  1.84e-01  1.43e-01 -1.97e-01  1.85e-01\n",
            "  -1.18e-01  1.57e-01  1.19e-01]]\n"
          ]
        }
      ]
    },
    {
      "cell_type": "markdown",
      "source": [
        "# **3. Entrenando Modelo de Clasificación**\n",
        "\n",
        "\n"
      ],
      "metadata": {
        "id": "SKKngaNTFlwK"
      }
    },
    {
      "cell_type": "markdown",
      "source": [
        "Finalmente, luego de aplicar 3 técnicas de reducción dimensional (2 de selección de atributos y 1 de transformación de atributos), podemos entrenar un modelo de clasificación y observar qué conjunto de datos brindó el mejor desempeño."
      ],
      "metadata": {
        "id": "tUA3yq_oF03G"
      }
    },
    {
      "cell_type": "code",
      "source": [
        "import pandas as pd\n",
        "import numpy as np\n",
        "import matplotlib.pyplot as plt\n",
        "\n",
        "from sklearn.feature_selection import SelectKBest   # para seleccionar atributos de forma univariada (filtros)\n",
        "from sklearn.feature_selection import chi2   # estadististica para evaluar la importancia de atributos en relacion al target\n",
        "from sklearn.feature_selection import RFE    # metodo recursive featute elimination\n",
        "from sklearn.decomposition import PCA        # para transformacion PCA\n",
        "\n",
        "from sklearn.discriminant_analysis import LinearDiscriminantAnalysis  # para modelos discriminantes lineales\n",
        "from sklearn.naive_bayes import GaussianNB   # para modelos Naive Bayes\n",
        "from sklearn.linear_model import LogisticRegression # para usar modelos de regresion logistica\n",
        "from sklearn.tree import DecisionTreeClassifier     # para usar modelos de tipo arboles de decision\n",
        "from sklearn.neighbors import KNeighborsClassifier  # para modelos  Knn\n",
        "from sklearn.svm import SVC   # para modelos SVM\n",
        "\n",
        "from sklearn.model_selection import train_test_split  # para partir los datos en conjuntos de entrenamiento y validacion\n",
        "from sklearn.model_selection import KFold  # para partir la data en k-folds\n",
        "from sklearn.model_selection import cross_val_score   # para evaluar algoritmos en cross validacion\n",
        "\n",
        "from sklearn.metrics import accuracy_score, balanced_accuracy_score   # para manejar metricas de desempeño\n",
        "from sklearn.metrics import classification_report  # para hacer reportes de resultados de clasificacion\n",
        "from sklearn.metrics import confusion_matrix  # para manejar matrices de confusion\n",
        "from sklearn.metrics import jaccard_score  # indice jacard\n",
        "\n",
        "from sklearn.ensemble import RandomForestClassifier\n",
        "from sklearn.metrics import balanced_accuracy_score\n"
      ],
      "metadata": {
        "id": "gAL4armgIMH6"
      },
      "execution_count": null,
      "outputs": []
    },
    {
      "cell_type": "code",
      "source": [
        "X1 = X_filtered_chi2\n",
        "X2 = X_filtered_RFE\n",
        "X3 = X_transformed_pca"
      ],
      "metadata": {
        "id": "5W18_sr4GkbW"
      },
      "execution_count": null,
      "outputs": []
    },
    {
      "cell_type": "code",
      "source": [
        "seed = 7\n",
        "kfold = KFold(n_splits=10, random_state=seed, shuffle=True)  # Estrategia de 10-fold CV\n",
        "model = RandomForestClassifier(random_state=seed)  # Modelo a evaluar"
      ],
      "metadata": {
        "id": "o5ThPkJAMEDv"
      },
      "execution_count": null,
      "outputs": []
    },
    {
      "cell_type": "code",
      "source": [
        "def evaluate_model(X, y, model, kfold):\n",
        "    cv_results = cross_val_score(model, X, y, cv=kfold, scoring='balanced_accuracy')\n",
        "    print(f\"Balanced Accuracy: {cv_results.mean():.4f} ± {cv_results.std():.4f}\")\n",
        "    return cv_results"
      ],
      "metadata": {
        "id": "M6TAxhlOMSgK"
      },
      "execution_count": null,
      "outputs": []
    },
    {
      "cell_type": "markdown",
      "source": [
        "Como etapa inicial empezamos evaluando inicialmente con el algoritmo Random Forest para tener una noción previa. Sin embargo, continuamos con experimentos a continuación."
      ],
      "metadata": {
        "id": "dFat8iiRELKX"
      }
    },
    {
      "cell_type": "code",
      "source": [
        "# Evaluación con cada dataset\n",
        "print(\"Evaluando con Chi2...\")\n",
        "results_chi2 = evaluate_model(X1, y, model, kfold)\n",
        "\n",
        "print(\"\\nEvaluando con RFE...\")\n",
        "results_RFE = evaluate_model(X2, y, model, kfold)\n",
        "\n",
        "print(\"\\nEvaluando con PCA...\")\n",
        "results_PCA = evaluate_model(X3, y, model, kfold)"
      ],
      "metadata": {
        "colab": {
          "base_uri": "https://localhost:8080/"
        },
        "id": "XHF1msb2Mbva",
        "outputId": "a279a08f-f630-49ca-bfac-6ceb4d3d8819"
      },
      "execution_count": null,
      "outputs": [
        {
          "output_type": "stream",
          "name": "stdout",
          "text": [
            "Evaluando con Chi2...\n",
            "Balanced Accuracy: 0.9472 ± 0.0242\n",
            "\n",
            "Evaluando con RFE...\n",
            "Balanced Accuracy: 0.9343 ± 0.0230\n",
            "\n",
            "Evaluando con PCA...\n",
            "Balanced Accuracy: 0.9453 ± 0.0195\n"
          ]
        }
      ]
    },
    {
      "cell_type": "code",
      "source": [
        "# realiza el train-test split\n",
        "vadid_fraction = 0.20    # proporcion de muestras para validacion\n",
        "seed = 7   # semilla para el generador aleatorio (para reproductibilidad)\n",
        "\n",
        "#Data de train y test sin ningún modelo:\n",
        "X_train, X_valid, y_train, y_valid = train_test_split(X, y, test_size=vadid_fraction, random_state=seed)\n",
        "\n",
        "#Data de train y test para el primer modelo:\n",
        "X1_train, X1_valid, y1_train, y1_valid = train_test_split(X1, y, test_size=vadid_fraction, random_state=seed)\n",
        "\n",
        "#Data de train y test para el segundo modelo:\n",
        "X2_train, X2_valid, y2_train, y2_valid = train_test_split(X2, y, test_size=vadid_fraction, random_state=seed)\n",
        "\n",
        "#Data de train y test para el tercder modelo:\n",
        "X3_train, X3_valid, y3_train, y3_valid = train_test_split(X3, y, test_size=vadid_fraction, random_state=seed)"
      ],
      "metadata": {
        "id": "Yc8_lmhKHoYS"
      },
      "execution_count": null,
      "outputs": []
    },
    {
      "cell_type": "code",
      "source": [
        "# Definimos el pool de algoritmos de ML a evaluar\n",
        "algos = []\n",
        "algos.append(('LogReg', LogisticRegression( solver='liblinear')))  #genera logistic regresors con solver liblinear\n",
        "algos.append(('5NN', KNeighborsClassifier( n_neighbors=5))) #genera knn con 5 vecinos\n",
        "algos.append(('10NN', KNeighborsClassifier( n_neighbors=10))) #genera knn con 5 vecinos\n",
        "algos.append(('CART', DecisionTreeClassifier(max_depth=None ))) # genera DT sin restriccion de profundidad\n"
      ],
      "metadata": {
        "id": "ebfK9Bu0vnSg"
      },
      "execution_count": null,
      "outputs": []
    },
    {
      "cell_type": "code",
      "source": [
        "# Evaluamos cada algoritmo de ML en estrategia de 10-fold-CV\n",
        "results_NoRed = []\n",
        "names_NoRed = []\n",
        "\n",
        "# genera el particionamiento de 10 folds que seran usados en cada evaluacion\n",
        "seed = 7\n",
        "kfold = KFold(n_splits=10, random_state=seed, shuffle= True)  # especifica el particionador de datos a 10-folds CV\n",
        "\n",
        "#  evalua cada algoritmo de ML\n",
        "for algoname, algo in algos:\n",
        "    cv_results = cross_val_score(algo, X_train, y_train, cv=kfold, scoring='balanced_accuracy')\n",
        "    results_NoRed.append(cv_results)\n",
        "    names_NoRed.append(algoname)\n",
        "    print(\"{}: {} ({})\".format(algoname, cv_results.mean(), cv_results.std()))"
      ],
      "metadata": {
        "colab": {
          "base_uri": "https://localhost:8080/"
        },
        "id": "5SSm8kCJDUnU",
        "outputId": "6044c97b-91a7-4cce-8789-78131042f0b2"
      },
      "execution_count": null,
      "outputs": [
        {
          "output_type": "stream",
          "name": "stdout",
          "text": [
            "LogReg: 0.6273117611799479 (0.18510749076371835)\n",
            "5NN: 0.7207241731973115 (0.052154753857374565)\n",
            "10NN: 0.6263826780343223 (0.041726919293768115)\n",
            "CART: 0.9351822335229674 (0.0367925343425853)\n"
          ]
        }
      ]
    },
    {
      "cell_type": "code",
      "source": [
        "# Evaluamos cada algoritmo de ML en estrategia de 10-fold-CV\n",
        "results_filter = []\n",
        "names_filter = []\n",
        "\n",
        "# genera el particionamiento de 10 folds que seran usados en cada evaluacion\n",
        "seed = 7\n",
        "kfold = KFold(n_splits=10, random_state=seed, shuffle= True)  # especifica el particionador de datos a 10-folds CV\n",
        "\n",
        "#  evalua cada algoritmo de ML\n",
        "for algoname, algo in algos:\n",
        "    cv_results = cross_val_score(algo, X1_train, y1_train, cv=kfold, scoring='balanced_accuracy')\n",
        "    results_filter.append(cv_results)\n",
        "    names_filter.append(algoname)\n",
        "    print(\"{}: {} ({})\".format(algoname, cv_results.mean(), cv_results.std()))"
      ],
      "metadata": {
        "colab": {
          "base_uri": "https://localhost:8080/"
        },
        "id": "lVMqHCNTvnP8",
        "outputId": "42f5ece8-71fd-442f-db86-de622b7ea62f"
      },
      "execution_count": null,
      "outputs": [
        {
          "output_type": "stream",
          "name": "stdout",
          "text": [
            "LogReg: 0.5905606091062152 (0.15877282153604116)\n",
            "5NN: 0.7207241731973115 (0.052154753857374565)\n",
            "10NN: 0.6263826780343223 (0.041726919293768115)\n",
            "CART: 0.9385825788048718 (0.03515710697402684)\n"
          ]
        }
      ]
    },
    {
      "cell_type": "code",
      "source": [
        "# Evaluamos cada algoritmo de ML en estrategia de 10-fold-CV\n",
        "results_RFE = []\n",
        "names_RFE = []\n",
        "\n",
        "# genera el particionamiento de 10 folds que seran usados en cada evaluacion\n",
        "seed = 7\n",
        "kfold = KFold(n_splits=10, random_state=seed, shuffle= True)  # especifica el particionador de datos a 10-folds CV\n",
        "\n",
        "#  evalua cada algoritmo de ML\n",
        "for algoname, algo in algos:\n",
        "    cv_results = cross_val_score(algo, X3_train, y3_train, cv=kfold, scoring='balanced_accuracy')\n",
        "    results_RFE.append(cv_results)\n",
        "    names_RFE.append(algoname)\n",
        "    print(\"{}: {} ({})\".format(algoname, cv_results.mean(), cv_results.std()))"
      ],
      "metadata": {
        "colab": {
          "base_uri": "https://localhost:8080/"
        },
        "id": "QtaGTcVUv4dk",
        "outputId": "7c95ecb7-67ce-47e1-c0a4-0780741aee39"
      },
      "execution_count": null,
      "outputs": [
        {
          "output_type": "stream",
          "name": "stdout",
          "text": [
            "LogReg: 0.9657769730755114 (0.028551296656286272)\n",
            "5NN: 0.9601935518670901 (0.03228428394503716)\n",
            "10NN: 0.9526366477725174 (0.029782268193655866)\n",
            "CART: 0.9086157472750536 (0.04944422749752703)\n"
          ]
        }
      ]
    },
    {
      "cell_type": "code",
      "source": [
        "# Evaluamos cada algoritmo de ML en estrategia de 10-fold-CV\n",
        "results_PCA = []\n",
        "names_PCA = []\n",
        "\n",
        "# genera el particionamiento de 10 folds que seran usados en cada evaluacion\n",
        "seed = 7\n",
        "kfold = KFold(n_splits=10, random_state=seed, shuffle= True)  # especifica el particionador de datos a 10-folds CV\n",
        "\n",
        "#  evalua cada algoritmo de ML\n",
        "for algoname, algo in algos:\n",
        "    cv_results = cross_val_score(algo, X3_train, y3_train, cv=kfold, scoring='balanced_accuracy')\n",
        "    results_PCA.append(cv_results)\n",
        "    names_PCA.append(algoname)\n",
        "    print(\"{}: {} ({})\".format(algoname, cv_results.mean(), cv_results.std()))"
      ],
      "metadata": {
        "colab": {
          "base_uri": "https://localhost:8080/"
        },
        "id": "D5hO2F_Uv3Oe",
        "outputId": "f09d42ef-5877-482c-c0fe-517a50d7a220"
      },
      "execution_count": null,
      "outputs": [
        {
          "output_type": "stream",
          "name": "stdout",
          "text": [
            "LogReg: 0.9657769730755114 (0.028551296656286272)\n",
            "5NN: 0.9601935518670901 (0.03228428394503716)\n",
            "10NN: 0.9526366477725174 (0.029782268193655866)\n",
            "CART: 0.916419613649947 (0.03824849633233288)\n"
          ]
        }
      ]
    },
    {
      "cell_type": "code",
      "source": [
        "fig = plt.figure()\n",
        "fig.suptitle('balanced_accuracy  obtenidas en 10-fold-CV Sin Reducción')\n",
        "ax = fig.add_subplot(111)\n",
        "plt.boxplot(results_NoRed)\n",
        "ax.set_xticklabels(names_NoRed)\n",
        "plt.show()"
      ],
      "metadata": {
        "colab": {
          "base_uri": "https://localhost:8080/"
        },
        "id": "nFlFpJPvDhva",
        "outputId": "24b22329-e308-4ff1-d10e-a904e7a7cdc2"
      },
      "execution_count": null,
      "outputs": [
        {
          "output_type": "display_data",
          "data": {
            "text/plain": [
              "<Figure size 640x480 with 1 Axes>"
            ],
            "image/png": "[encoded data removed]"
          },
          "metadata": {}
        }
      ]
    },
    {
      "cell_type": "code",
      "source": [
        "# Reentrena modelo LR con todos los datos de entrenamiento y lo prueba en el conjunto de validación\n",
        "model_NoRed =  DecisionTreeClassifier(max_depth=None , class_weight = 'balanced') #  usar class_weight = 'balanced') para entrenar tomando en cuenta el desbalance\n",
        "model_NoRed.fit(X_train, y_train)\n",
        "\n",
        "# predice la c lase del conjunto de validacion\n",
        "y_predicted = model_NoRed.predict(X_valid)\n",
        "print(\"Balanced Accuracy score:\", balanced_accuracy_score(y_valid, y_predicted))\n",
        "\n",
        "# muestra la matriz de confusion\n",
        "# en la matriz de confusion, un elemento Cij es el numero de ejemplos predichos como clase j que son realmente de clase i\n",
        "print(\"\\nMatriz de Confusión:\")\n",
        "print(confusion_matrix(y_valid, y_predicted))\n",
        "\n",
        "# muestra un reporte de la clasificacion en validacion\n",
        "print(\"\\nReporte de clasificacion en conjunto de validacion: \\n\")\n",
        "print(classification_report(y_valid, y_predicted))"
      ],
      "metadata": {
        "colab": {
          "base_uri": "https://localhost:8080/"
        },
        "id": "8Kx3evNNECAw",
        "outputId": "94a2b77a-d44c-42df-d0b3-64140dd1770c"
      },
      "execution_count": null,
      "outputs": [
        {
          "output_type": "stream",
          "name": "stdout",
          "text": [
            "Balanced Accuracy score: 0.9182432432432432\n",
            "\n",
            "Matriz de Confusión:\n",
            "[[73  1]\n",
            " [ 6 34]]\n",
            "\n",
            "Reporte de clasificacion en conjunto de validacion: \n",
            "\n",
            "              precision    recall  f1-score   support\n",
            "\n",
            "           B       0.92      0.99      0.95        74\n",
            "           M       0.97      0.85      0.91        40\n",
            "\n",
            "    accuracy                           0.94       114\n",
            "   macro avg       0.95      0.92      0.93       114\n",
            "weighted avg       0.94      0.94      0.94       114\n",
            "\n"
          ]
        }
      ]
    },
    {
      "cell_type": "code",
      "source": [
        "fig = plt.figure()\n",
        "fig.suptitle('balanced_accuracy  obtenidas en 10-fold-CV Filtros')\n",
        "ax = fig.add_subplot(111)\n",
        "plt.boxplot(results_filter)\n",
        "ax.set_xticklabels(names_filter)\n",
        "plt.show()"
      ],
      "metadata": {
        "colab": {
          "base_uri": "https://localhost:8080/"
        },
        "id": "YDYKMiXI1K7r",
        "outputId": "4d7cbe12-6854-4c82-a2f5-f191cb619ca1"
      },
      "execution_count": null,
      "outputs": [
        {
          "output_type": "display_data",
          "data": {
            "text/plain": [
              "<Figure size 640x480 with 1 Axes>"
            ],
            "image/png": "[encoded data removed]"
          },
          "metadata": {}
        }
      ]
    },
    {
      "cell_type": "code",
      "source": [
        "# Reentrena modelo LR con todos los datos de entrenamiento y lo prueba en el conjunto de validación\n",
        "model_filter =  DecisionTreeClassifier(max_depth=None , class_weight = 'balanced') #  usar class_weight = 'balanced') para entrenar tomando en cuenta el desbalance\n",
        "model_filter.fit(X1_train, y1_train)\n",
        "\n",
        "# predice la c lase del conjunto de validacion\n",
        "y1_predicted = model_filter.predict(X1_valid)\n",
        "print(\"Balanced Accuracy score:\", balanced_accuracy_score(y1_valid, y1_predicted))\n",
        "\n",
        "# muestra la matriz de confusion\n",
        "# en la matriz de confusion, un elemento Cij es el numero de ejemplos predichos como clase j que son realmente de clase i\n",
        "print(\"\\nMatriz de Confusión:\")\n",
        "print(confusion_matrix(y1_valid, y1_predicted))\n",
        "\n",
        "# muestra un reporte de la clasificacion en validacion\n",
        "print(\"\\nReporte de clasificacion en conjunto de validacion: \\n\")\n",
        "print(classification_report(y1_valid, y1_predicted))"
      ],
      "metadata": {
        "colab": {
          "base_uri": "https://localhost:8080/"
        },
        "id": "Xko-Mhc9Eglg",
        "outputId": "70ea8468-64d2-44b4-903a-87c85f19bb34"
      },
      "execution_count": null,
      "outputs": [
        {
          "output_type": "stream",
          "name": "stdout",
          "text": [
            "Balanced Accuracy score: 0.8797297297297297\n",
            "\n",
            "Matriz de Confusión:\n",
            "[[71  3]\n",
            " [ 8 32]]\n",
            "\n",
            "Reporte de clasificacion en conjunto de validacion: \n",
            "\n",
            "              precision    recall  f1-score   support\n",
            "\n",
            "           B       0.90      0.96      0.93        74\n",
            "           M       0.91      0.80      0.85        40\n",
            "\n",
            "    accuracy                           0.90       114\n",
            "   macro avg       0.91      0.88      0.89       114\n",
            "weighted avg       0.90      0.90      0.90       114\n",
            "\n"
          ]
        }
      ]
    },
    {
      "cell_type": "code",
      "source": [
        "fig = plt.figure()\n",
        "fig.suptitle('balanced_accuracy  obtenidas en 10-fold-CV RFE')\n",
        "ax = fig.add_subplot(111)\n",
        "plt.boxplot(results_RFE)\n",
        "ax.set_xticklabels(names_RFE)\n",
        "plt.show()"
      ],
      "metadata": {
        "colab": {
          "base_uri": "https://localhost:8080/"
        },
        "id": "lQLjEY6K3R-8",
        "outputId": "432e90c1-82aa-428a-9674-de1b322a92fd"
      },
      "execution_count": null,
      "outputs": [
        {
          "output_type": "display_data",
          "data": {
            "text/plain": [
              "<Figure size 640x480 with 1 Axes>"
            ],
            "image/png": "[encoded data removed]"
          },
          "metadata": {}
        }
      ]
    },
    {
      "cell_type": "code",
      "source": [
        "# Reentrena modelo LR con todos los datos de entrenamiento y lo prueba en el conjunto de validación\n",
        "model_RFE = LogisticRegression(solver='liblinear', class_weight = 'balanced') #  usar class_weight = 'balanced') para entrenar tomando en cuenta el desbalance\n",
        "model_RFE.fit(X2_train, y2_train)\n",
        "\n",
        "# predice la c lase del conjunto de validacion\n",
        "y2_predicted = model_RFE.predict(X2_valid)\n",
        "print(\"Balanced Accuracy score:\", balanced_accuracy_score(y2_valid, y2_predicted))\n",
        "\n",
        "# muestra la matriz de confusion\n",
        "# en la matriz de confusion, un elemento Cij es el numero de ejemplos predichos como clase j que son realmente de clase i\n",
        "print(\"\\nMatriz de Confusión:\")\n",
        "print(confusion_matrix(y2_valid, y2_predicted))\n",
        "\n",
        "# muestra un reporte de la clasificacion en validacion\n",
        "print(\"\\nReporte de clasificacion en conjunto de validacion: \\n\")\n",
        "print(classification_report(y2_valid, y2_predicted))"
      ],
      "metadata": {
        "colab": {
          "base_uri": "https://localhost:8080/"
        },
        "id": "uUHPvm5rE2rp",
        "outputId": "b1de010a-29c4-4e65-f4b0-23859db4a0f6"
      },
      "execution_count": null,
      "outputs": [
        {
          "output_type": "stream",
          "name": "stdout",
          "text": [
            "Balanced Accuracy score: 0.8922297297297297\n",
            "\n",
            "Matriz de Confusión:\n",
            "[[71  3]\n",
            " [ 7 33]]\n",
            "\n",
            "Reporte de clasificacion en conjunto de validacion: \n",
            "\n",
            "              precision    recall  f1-score   support\n",
            "\n",
            "           B       0.91      0.96      0.93        74\n",
            "           M       0.92      0.82      0.87        40\n",
            "\n",
            "    accuracy                           0.91       114\n",
            "   macro avg       0.91      0.89      0.90       114\n",
            "weighted avg       0.91      0.91      0.91       114\n",
            "\n"
          ]
        }
      ]
    },
    {
      "cell_type": "code",
      "source": [
        "fig = plt.figure()\n",
        "fig.suptitle('balanced_accuracy  obtenidas en 10-fold-CV PCA')\n",
        "ax = fig.add_subplot(111)\n",
        "plt.boxplot(results_PCA)\n",
        "ax.set_xticklabels(names_PCA)\n",
        "plt.show()"
      ],
      "metadata": {
        "colab": {
          "base_uri": "https://localhost:8080/",
          "height": 478
        },
        "id": "QEWTjxEw3SYq",
        "outputId": "f97cb27d-2e1b-4705-85a9-b7f71c0b2b89"
      },
      "execution_count": null,
      "outputs": [
        {
          "output_type": "display_data",
          "data": {
            "text/plain": [
              "<Figure size 640x480 with 1 Axes>"
            ],
            "image/png": "[encoded data removed]"
          },
          "metadata": {}
        }
      ]
    },
    {
      "cell_type": "code",
      "source": [
        "# Reentrena modelo LR con todos los datos de entrenamiento y lo prueba en el conjunto de validación\n",
        "model_PCA = LogisticRegression(solver='liblinear', class_weight = 'balanced') #  usar class_weight = 'balanced') para entrenar tomando en cuenta el desbalance\n",
        "model_PCA.fit(X3_train, y3_train)\n",
        "\n",
        "# predice la c lase del conjunto de validacion\n",
        "y3_predicted = model_PCA.predict(X3_valid)\n",
        "print(\"Balanced Accuracy score:\", balanced_accuracy_score(y3_valid, y3_predicted))\n",
        "\n",
        "# muestra la matriz de confusion\n",
        "# en la matriz de confusion, un elemento Cij es el numero de ejemplos predichos como clase j que son realmente de clase i\n",
        "print(\"\\nMatriz de Confusión:\")\n",
        "print(confusion_matrix(y3_valid, y3_predicted))\n",
        "\n",
        "# muestra un reporte de la clasificacion en validacion\n",
        "print(\"\\nReporte de clasificacion en conjunto de validacion: \\n\")\n",
        "print(classification_report(y3_valid, y3_predicted))"
      ],
      "metadata": {
        "colab": {
          "base_uri": "https://localhost:8080/"
        },
        "id": "nA5f8O8jFLmm",
        "outputId": "6ccf0bf1-da48-4c56-d5f5-ddd00a33936e"
      },
      "execution_count": null,
      "outputs": [
        {
          "output_type": "stream",
          "name": "stdout",
          "text": [
            "Balanced Accuracy score: 0.9875\n",
            "\n",
            "Matriz de Confusión:\n",
            "[[74  0]\n",
            " [ 1 39]]\n",
            "\n",
            "Reporte de clasificacion en conjunto de validacion: \n",
            "\n",
            "              precision    recall  f1-score   support\n",
            "\n",
            "           B       0.99      1.00      0.99        74\n",
            "           M       1.00      0.97      0.99        40\n",
            "\n",
            "    accuracy                           0.99       114\n",
            "   macro avg       0.99      0.99      0.99       114\n",
            "weighted avg       0.99      0.99      0.99       114\n",
            "\n"
          ]
        }
      ]
    }
  ]
}